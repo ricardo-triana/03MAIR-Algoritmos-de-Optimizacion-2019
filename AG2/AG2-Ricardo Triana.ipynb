{
 "cells": [
  {
   "cell_type": "markdown",
   "metadata": {},
   "source": [
    "Ricardo Triana<br>\n",
    "Actividad Guiada No. 2\n",
    "URL: <a>https://github.com/ricardo-triana/03MAIR-Algoritmos-de-Optimizacion-2019/tree/master/AG2</a>"
   ]
  },
  {
   "cell_type": "code",
   "execution_count": 1,
   "metadata": {},
   "outputs": [],
   "source": [
    "#Calcular tiempo\n",
    "from time import time\n",
    "def calcular_tiempo(f):\n",
    "    def wrapper(*args, **kwargs):\n",
    "        inicio = time()\n",
    "        resultado = f(*args, **kwargs)\n",
    "        tiempo = float(time()-inicio)\n",
    "        print('\\n Tiempo de ejecución para algoritmo: ' + \"{0:25f}\".format(tiempo))\n",
    "        return resultado\n",
    "    return wrapper"
   ]
  },
  {
   "cell_type": "markdown",
   "metadata": {},
   "source": [
    "<b>Dos puntos más cercanos (Fuerza bruta)</b>"
   ]
  },
  {
   "cell_type": "code",
   "execution_count": 2,
   "metadata": {},
   "outputs": [],
   "source": [
    "import random\n",
    "import math"
   ]
  },
  {
   "cell_type": "code",
   "execution_count": 3,
   "metadata": {},
   "outputs": [
    {
     "name": "stdout",
     "output_type": "stream",
     "text": [
      "[(316, 453), (630, 634), (828, 740), (363, 705), (52, 8), (940, 813), (436, 43), (896, 592), (83, 327), (630, 550), (119, 367), (170, 556), (444, 580), (249, 290), (78, 697), (864, 559), (404, 876), (826, 511), (615, 150), (285, 370), (172, 289), (252, 935), (863, 173), (288, 119), (386, 820), (99, 871), (559, 875), (152, 374), (966, 961), (10, 778), (192, 427), (670, 108), (184, 603), (878, 406), (183, 170), (465, 764), (446, 856), (768, 131), (333, 618), (149, 979), (843, 516), (757, 709), (472, 221), (968, 282), (533, 983), (176, 77), (312, 142), (877, 3), (946, 683), (386, 63), (98, 386), (692, 323), (463, 400), (385, 845), (789, 110), (768, 62), (514, 593), (547, 818), (177, 887), (491, 546), (760, 901), (554, 988), (685, 781), (994, 218), (73, 952), (725, 625), (765, 342), (978, 78), (79, 362), (295, 910), (118, 355), (394, 86), (575, 433), (985, 277), (261, 655), (537, 217), (308, 177), (761, 415), (268, 773), (237, 346), (136, 943), (129, 692), (75, 610), (85, 534), (52, 26), (949, 514), (860, 518), (603, 902), (657, 536), (922, 840), (51, 988), (483, 936), (797, 637), (926, 234), (715, 110), (587, 350), (751, 530), (684, 131), (945, 419), (178, 895)]\n"
     ]
    }
   ],
   "source": [
    "N = 100\n",
    "LISTA_2D = [(random.randrange(1, N*10), random.randrange(1, N*10)) for _ in range(N)]\n",
    "print(LISTA_2D)"
   ]
  },
  {
   "cell_type": "code",
   "execution_count": 4,
   "metadata": {},
   "outputs": [],
   "source": [
    "def distancia(A,B):\n",
    "    if type(A) is int or type(A) is float:\n",
    "        return abs (A-B)\n",
    "    else:\n",
    "        return math.sqrt(sum([(A[i]-B[i])**2 for i in range(len(A))]))\n",
    "            "
   ]
  },
  {
   "cell_type": "code",
   "execution_count": 5,
   "metadata": {},
   "outputs": [
    {
     "name": "stdout",
     "output_type": "stream",
     "text": [
      "1.0\n"
     ]
    }
   ],
   "source": [
    "print(distancia((3,5),(2,5)))"
   ]
  },
  {
   "cell_type": "code",
   "execution_count": 6,
   "metadata": {},
   "outputs": [],
   "source": [
    "def distancia_fuerza_bruta(L):\n",
    "    mejor_distancia = 100000e10\n",
    "    A,B = (),()\n",
    "    \n",
    "    for i in range(len(L)):\n",
    "        for j in range(i+1,len(L)):\n",
    "            dist = distancia(L[i],L[j])\n",
    "            if dist<mejor_distancia:\n",
    "                A,B = L[i],L[j]\n",
    "                mejor_distancia = dist\n",
    "    return (A,B)\n",
    "        "
   ]
  },
  {
   "cell_type": "code",
   "execution_count": 7,
   "metadata": {},
   "outputs": [
    {
     "data": {
      "text/plain": [
       "((177, 887), (178, 895))"
      ]
     },
     "execution_count": 7,
     "metadata": {},
     "output_type": "execute_result"
    }
   ],
   "source": [
    "distancia_fuerza_bruta(LISTA_2D)"
   ]
  },
  {
   "cell_type": "markdown",
   "metadata": {},
   "source": [
    "<b>Dos puntos más cercanos (Divide y vencerás)</b>"
   ]
  },
  {
   "cell_type": "code",
   "execution_count": 8,
   "metadata": {},
   "outputs": [],
   "source": [
    "def distancia_divide_y_venceras(L):\n",
    "    #Si hay pocos se resuelve por Fuerza Bruta\n",
    "    if len(L)<10:\n",
    "        return distancia_fuerza_bruta(L)\n",
    "\n",
    "    #Se ordena la lista una sola vez\n",
    "    L = sorted(L, key=lambda x: x[0])\n",
    "    #Dividir en listas grandes\n",
    "    LISTA_IZQ = L[:len(L)//2]\n",
    "    LISTA_DER = L[len(L)//2:]\n",
    "    \n",
    "    PUNTOS_LISTA_IZQ = distancia_divide_y_venceras(LISTA_IZQ)\n",
    "    PUNTOS_LISTA_DER = distancia_divide_y_venceras(LISTA_DER)\n",
    "        \n",
    "    return distancia_fuerza_bruta(PUNTOS_LISTA_IZQ + PUNTOS_LISTA_DER)    "
   ]
  },
  {
   "cell_type": "code",
   "execution_count": 9,
   "metadata": {},
   "outputs": [
    {
     "name": "stdout",
     "output_type": "stream",
     "text": [
      "\n",
      " Tiempo de ejecución para algoritmo:                  0.003089\n",
      "((177, 887), (178, 895))\n"
     ]
    }
   ],
   "source": [
    "@calcular_tiempo\n",
    "def LANZA(L):\n",
    "    return distancia_divide_y_venceras(L)\n",
    "    \n",
    "SOL = LANZA(LISTA_2D[:1000])\n",
    "print(SOL)"
   ]
  },
  {
   "cell_type": "markdown",
   "metadata": {},
   "source": [
    "<b>Problema Viaje Por el río</b>"
   ]
  },
  {
   "cell_type": "code",
   "execution_count": 10,
   "metadata": {},
   "outputs": [
    {
     "name": "stdout",
     "output_type": "stream",
     "text": [
      "[[9999, 5, 4, 3, 8, 8, 11], [9999, 9999, 999, 2, 3, 8, 7], [9999, 9999, 9999, 1, 6, 4, 7], [9999, 9999, 9999, 9999, 5, 6, 9], [9999, 9999, 9999, 9999, 9999, 999, 4], [9999, 9999, 9999, 9999, 9999, 9999, 3], [9999, 9999, 9999, 9999, 9999, 9999, 9999]]\n",
      "[['', 0, 0, 0, 1, 2, 5], ['', '', 1, 1, 1, 3, 4], ['', '', '', 2, 3, 2, 5], ['', '', '', '', 3, 3, 3], ['', '', '', '', '', 4, 4], ['', '', '', '', '', '', 5], ['', '', '', '', '', '', '']]\n",
      "\n",
      "La ruta es: \n"
     ]
    },
    {
     "data": {
      "text/plain": [
       "'0,0,2,5'"
      ]
     },
     "execution_count": 10,
     "metadata": {},
     "output_type": "execute_result"
    }
   ],
   "source": [
    "TARIFAS = [\n",
    "[0,5,4,3,999,999,999],\n",
    "[999,0,999,2,3,999,11],\n",
    "[999,999, 0,1,999,4,10],\n",
    "[999,999,999, 0,5,6,9],\n",
    "[999,999, 999,999,0,999,4],\n",
    "[999,999, 999,999,999,0,3],\n",
    "[999,999,999,999,999,999,0]\n",
    "]\n",
    "\n",
    "def Precios(TARIFAS):\n",
    "    N = len(TARIFAS[0])\n",
    "    \n",
    "    #Inicialización de la tabla de precios\n",
    "    PRECIOS = [[9999]*N for i in [9999]*N]\n",
    "    RUTAS = [[\"\"]*N for i in [\"\"]*N]\n",
    "    \n",
    "    for i in range(N-1):\n",
    "        for j in range(i+1,N):\n",
    "            MIN = TARIFAS[i][j]\n",
    "            RUTAS[i][j] = i\n",
    "            \n",
    "            for k in range(i,j):\n",
    "                if PRECIOS[i][k]+TARIFAS[k][j]<MIN:\n",
    "                    MIN = min(MIN, PRECIOS[i][k]+TARIFAS[k][j])\n",
    "                    RUTAS[i][j] = k\n",
    "            PRECIOS[i][j] = MIN\n",
    "    return PRECIOS, RUTAS\n",
    "\n",
    "PRECIOS, RUTAS = Precios(TARIFAS)\n",
    "\n",
    "print(PRECIOS)\n",
    "print(RUTAS)\n",
    "\n",
    "def calcular_ruta(RUTAS, desde, hasta):\n",
    "    if (desde==hasta):\n",
    "        return desde\n",
    "    else:\n",
    "        return str(calcular_ruta(RUTAS, desde, RUTAS[desde][hasta])) + ',' + str(RUTAS[desde][hasta])\n",
    "\n",
    "print('\\nLa ruta es: ')\n",
    "calcular_ruta(RUTAS, 0,6)"
   ]
  },
  {
   "cell_type": "markdown",
   "metadata": {},
   "source": [
    "<h2>Mejora: Algoritmo de cálculo de distancia entre dos puntos</h2>"
   ]
  },
  {
   "cell_type": "code",
   "execution_count": 11,
   "metadata": {},
   "outputs": [],
   "source": [
    "#Esta función revisa los puntos más cercanos que se encuentren dentro de la distancia mínima calculada\n",
    "#devuelve una lista con los puntos, si se cumple el criterio\n",
    "#Traza una línea divisoria respecto a la componente y de cada punto\n",
    "def MasCercanosBanda(banda, d):\n",
    "    salida = []\n",
    "    minimo = d\n",
    "    tam = len(banda)\n",
    "    banda = sorted(banda, key=lambda x: x[1])\n",
    "    for i in range(tam):\n",
    "        j = i+1\n",
    "        while (j<tam) and ((banda[j][1] - banda[i][1])<minimo):\n",
    "            if distancia(banda[i],banda[j])<minimo:\n",
    "                minimo = distancia(banda[i], banda[j])\n",
    "                salida.append(banda[i])\n",
    "                salida.append(banda[j])\n",
    "            j = j + 1\n",
    "    return salida"
   ]
  },
  {
   "cell_type": "code",
   "execution_count": 12,
   "metadata": {},
   "outputs": [],
   "source": [
    "def distancia_divide_y_venceras2(L):\n",
    "    #Si hay pocos se resuelve por Fuerza Bruta\n",
    "    if len(L)<10:\n",
    "        return distancia_fuerza_bruta(L)\n",
    "\n",
    "    #Se ordena la lista una sola vez\n",
    "    L = sorted(L, key=lambda x: x[0])\n",
    "    midPoint = len(L)//2\n",
    "    #Dividir en listas grandes\n",
    "    LISTA_IZQ = L[:midPoint]\n",
    "    LISTA_DER = L[midPoint:]\n",
    "    \n",
    "         \n",
    "    PUNTOS_LISTA_IZQ = distancia_divide_y_venceras2(LISTA_IZQ)\n",
    "    PUNTOS_LISTA_DER = distancia_divide_y_venceras2(LISTA_DER)\n",
    "    \n",
    "    #Se unen los puntos resultantes de izquierda y derecha en una lista\n",
    "    puntos = distancia_fuerza_bruta(PUNTOS_LISTA_IZQ + PUNTOS_LISTA_DER)\n",
    "    \n",
    "    #Se calcula la distancia entre esos dos puntos\n",
    "    d = distancia(puntos[0],puntos[1])\n",
    "\n",
    "    #Para resolver el problema de la banda que existe en la mitad:\n",
    "    #Se construye una nueva lista a la que se le adicionan los puntos cuya distancia respecto al central es menor\n",
    "    #que la distancia arriba calculada\n",
    "    banda = []\n",
    "    j = 0\n",
    "    for i in range(0, len(L)):\n",
    "        if (abs(L[i][0] - L[midPoint][0]) < d):\n",
    "            banda.append(L[i])\n",
    "            j = j + 1\n",
    "            \n",
    "    print('Banda')\n",
    "    print(banda)\n",
    "\n",
    "    #Se llama la función que busca los puntos más cercanos dentro de la banda\n",
    "    lista2 = MasCercanosBanda(banda,d)\n",
    "    \n",
    "    #Por un lado, se crea una lista con los puntos resultantes, evitando repetir los que salgan de lista2\n",
    "    lista = []\n",
    "    for elm in puntos:\n",
    "        if elm not in lista2:\n",
    "            lista.append(elm)\n",
    "    \n",
    "    print('Listas')\n",
    "    print(lista)\n",
    "    print(lista2)\n",
    "    \n",
    "    #Se combinan los dos resultados para hallar la solución final\n",
    "    lista = lista + lista2\n",
    "       \n",
    "    return distancia_fuerza_bruta(lista)"
   ]
  },
  {
   "cell_type": "code",
   "execution_count": 13,
   "metadata": {},
   "outputs": [
    {
     "name": "stdout",
     "output_type": "stream",
     "text": [
      "Banda\n",
      "[(73, 952), (75, 610), (78, 697), (79, 362), (83, 327), (85, 534)]\n",
      "Listas\n",
      "[(52, 8), (52, 26)]\n",
      "[]\n",
      "Banda\n",
      "[(170, 556), (172, 289), (176, 77), (177, 887), (178, 895)]\n",
      "Listas\n",
      "[(177, 887), (178, 895)]\n",
      "[]\n",
      "Banda\n",
      "[(118, 355), (119, 367)]\n",
      "Listas\n",
      "[(177, 887), (178, 895)]\n",
      "[]\n",
      "Banda\n",
      "[(252, 935), (261, 655), (268, 773), (285, 370), (288, 119), (295, 910), (308, 177), (312, 142), (316, 453)]\n",
      "Listas\n",
      "[(288, 119), (312, 142)]\n",
      "[]\n",
      "Banda\n",
      "[(385, 845), (386, 820), (386, 63), (394, 86), (404, 876)]\n",
      "Listas\n",
      "[(386, 63), (394, 86)]\n",
      "[]\n",
      "Banda\n",
      "[(312, 142), (316, 453), (333, 618)]\n",
      "Listas\n",
      "[(386, 63), (394, 86)]\n",
      "[]\n",
      "Banda\n",
      "[(184, 603), (192, 427)]\n",
      "Listas\n",
      "[(177, 887), (178, 895)]\n",
      "[]\n",
      "Banda\n",
      "[(514, 593), (533, 983), (537, 217), (547, 818), (554, 988), (559, 875), (575, 433), (587, 350), (603, 902)]\n",
      "Listas\n",
      "[(559, 875), (603, 902)]\n",
      "[(533, 983), (554, 988)]\n",
      "Banda\n",
      "[(670, 108), (684, 131), (685, 781), (692, 323), (715, 110)]\n",
      "Listas\n",
      "[(670, 108), (684, 131)]\n",
      "[]\n",
      "Banda\n",
      "[(615, 150), (630, 634), (630, 550)]\n",
      "Listas\n",
      "[(533, 983), (554, 988)]\n",
      "[]\n",
      "Banda\n",
      "[(826, 511), (828, 740), (843, 516)]\n",
      "Listas\n",
      "[(843, 516), (860, 518)]\n",
      "[]\n",
      "Banda\n",
      "[(940, 813), (945, 419), (946, 683), (949, 514)]\n",
      "Listas\n",
      "[(968, 282), (985, 277)]\n",
      "[]\n",
      "Banda\n",
      "[(863, 173), (864, 559), (877, 3), (878, 406)]\n",
      "Listas\n",
      "[(843, 516), (860, 518)]\n",
      "[]\n",
      "Banda\n",
      "[(751, 530), (757, 709), (760, 901), (761, 415), (765, 342), (768, 131), (768, 62)]\n",
      "Listas\n",
      "[(843, 516), (860, 518)]\n",
      "[]\n",
      "Banda\n",
      "[(483, 936), (491, 546)]\n",
      "Listas\n",
      "[(177, 887), (178, 895)]\n",
      "[]\n"
     ]
    },
    {
     "data": {
      "text/plain": [
       "((177, 887), (178, 895))"
      ]
     },
     "execution_count": 13,
     "metadata": {},
     "output_type": "execute_result"
    }
   ],
   "source": [
    "distancia_divide_y_venceras2(LISTA_2D)"
   ]
  }
 ],
 "metadata": {
  "kernelspec": {
   "display_name": "Python 3",
   "language": "python",
   "name": "python3"
  },
  "language_info": {
   "codemirror_mode": {
    "name": "ipython",
    "version": 3
   },
   "file_extension": ".py",
   "mimetype": "text/x-python",
   "name": "python",
   "nbconvert_exporter": "python",
   "pygments_lexer": "ipython3",
   "version": "3.7.1"
  }
 },
 "nbformat": 4,
 "nbformat_minor": 2
}
